{
  "nbformat": 4,
  "nbformat_minor": 0,
  "metadata": {
    "colab": {
      "provenance": [],
      "authorship_tag": "ABX9TyO+KNxPYQorCFGl3Rk/eVYn",
      "include_colab_link": true
    },
    "kernelspec": {
      "name": "python3",
      "display_name": "Python 3"
    },
    "language_info": {
      "name": "python"
    }
  },
  "cells": [
    {
      "cell_type": "markdown",
      "metadata": {
        "id": "view-in-github",
        "colab_type": "text"
      },
      "source": [
        "<a href=\"https://colab.research.google.com/github/IA-DAMA/NeuralNetwork/blob/main/Neural_Network_and_Text_Classification(Py_tf).ipynb\" target=\"_parent\"><img src=\"https://colab.research.google.com/assets/colab-badge.svg\" alt=\"Open In Colab\"/></a>"
      ]
    },
    {
      "cell_type": "markdown",
      "source": [
        "#Neural Network for text classification\n",
        "\n",
        "\n",
        "1.   Implementing feedfoward Neural Network with numerical data\n",
        "2.   Tensorflow with text classification\n",
        "3.   Figure it out whether winery review based on the review it self is lower or higher tier\n"
      ],
      "metadata": {
        "id": "MIs-KDYfJ9V0"
      }
    },
    {
      "cell_type": "code",
      "execution_count": 1,
      "metadata": {
        "id": "-ZWu9Af-sbzU"
      },
      "outputs": [],
      "source": [
        "import numpy as np\n",
        "import pandas as pd\n",
        "import matplotlib.pyplot as plt\n",
        "\n",
        "import tensorflow as tf\n",
        "import tensorflow_hub as hub"
      ]
    },
    {
      "cell_type": "code",
      "source": [
        "df = pd.read_csv(\"wine-reviews.csv\", usecols=['country', 'description', 'points', 'price', 'variety', 'winery'], encoding='utf-8')"
      ],
      "metadata": {
        "id": "0_OVvRSHvhHQ"
      },
      "execution_count": 2,
      "outputs": []
    },
    {
      "cell_type": "code",
      "source": [
        "df.head()"
      ],
      "metadata": {
        "colab": {
          "base_uri": "https://localhost:8080/",
          "height": 206
        },
        "id": "b77TvUrnv5tJ",
        "outputId": "66edb56a-e878-4159-c94a-26678d3a542f"
      },
      "execution_count": 3,
      "outputs": [
        {
          "output_type": "execute_result",
          "data": {
            "text/plain": [
              "    country                                        description  points  price  \\\n",
              "0     Italy  Aromas include tropical fruit, broom, brimston...      87    NaN   \n",
              "1  Portugal  This is ripe and fruity, a wine that is smooth...      87   15.0   \n",
              "2        US  Tart and snappy, the flavors of lime flesh and...      87   14.0   \n",
              "3        US  Pineapple rind, lemon pith and orange blossom ...      87   13.0   \n",
              "4        US  Much like the regular bottling from 2012, this...      87   65.0   \n",
              "\n",
              "          variety               winery  \n",
              "0     White Blend              Nicosia  \n",
              "1  Portuguese Red  Quinta dos Avidagos  \n",
              "2      Pinot Gris            Rainstorm  \n",
              "3        Riesling           St. Julian  \n",
              "4      Pinot Noir         Sweet Cheeks  "
            ],
            "text/html": [
              "\n",
              "  <div id=\"df-6a0bf930-af72-4320-a84d-45231a572a09\">\n",
              "    <div class=\"colab-df-container\">\n",
              "      <div>\n",
              "<style scoped>\n",
              "    .dataframe tbody tr th:only-of-type {\n",
              "        vertical-align: middle;\n",
              "    }\n",
              "\n",
              "    .dataframe tbody tr th {\n",
              "        vertical-align: top;\n",
              "    }\n",
              "\n",
              "    .dataframe thead th {\n",
              "        text-align: right;\n",
              "    }\n",
              "</style>\n",
              "<table border=\"1\" class=\"dataframe\">\n",
              "  <thead>\n",
              "    <tr style=\"text-align: right;\">\n",
              "      <th></th>\n",
              "      <th>country</th>\n",
              "      <th>description</th>\n",
              "      <th>points</th>\n",
              "      <th>price</th>\n",
              "      <th>variety</th>\n",
              "      <th>winery</th>\n",
              "    </tr>\n",
              "  </thead>\n",
              "  <tbody>\n",
              "    <tr>\n",
              "      <th>0</th>\n",
              "      <td>Italy</td>\n",
              "      <td>Aromas include tropical fruit, broom, brimston...</td>\n",
              "      <td>87</td>\n",
              "      <td>NaN</td>\n",
              "      <td>White Blend</td>\n",
              "      <td>Nicosia</td>\n",
              "    </tr>\n",
              "    <tr>\n",
              "      <th>1</th>\n",
              "      <td>Portugal</td>\n",
              "      <td>This is ripe and fruity, a wine that is smooth...</td>\n",
              "      <td>87</td>\n",
              "      <td>15.0</td>\n",
              "      <td>Portuguese Red</td>\n",
              "      <td>Quinta dos Avidagos</td>\n",
              "    </tr>\n",
              "    <tr>\n",
              "      <th>2</th>\n",
              "      <td>US</td>\n",
              "      <td>Tart and snappy, the flavors of lime flesh and...</td>\n",
              "      <td>87</td>\n",
              "      <td>14.0</td>\n",
              "      <td>Pinot Gris</td>\n",
              "      <td>Rainstorm</td>\n",
              "    </tr>\n",
              "    <tr>\n",
              "      <th>3</th>\n",
              "      <td>US</td>\n",
              "      <td>Pineapple rind, lemon pith and orange blossom ...</td>\n",
              "      <td>87</td>\n",
              "      <td>13.0</td>\n",
              "      <td>Riesling</td>\n",
              "      <td>St. Julian</td>\n",
              "    </tr>\n",
              "    <tr>\n",
              "      <th>4</th>\n",
              "      <td>US</td>\n",
              "      <td>Much like the regular bottling from 2012, this...</td>\n",
              "      <td>87</td>\n",
              "      <td>65.0</td>\n",
              "      <td>Pinot Noir</td>\n",
              "      <td>Sweet Cheeks</td>\n",
              "    </tr>\n",
              "  </tbody>\n",
              "</table>\n",
              "</div>\n",
              "      <button class=\"colab-df-convert\" onclick=\"convertToInteractive('df-6a0bf930-af72-4320-a84d-45231a572a09')\"\n",
              "              title=\"Convert this dataframe to an interactive table.\"\n",
              "              style=\"display:none;\">\n",
              "        \n",
              "  <svg xmlns=\"http://www.w3.org/2000/svg\" height=\"24px\"viewBox=\"0 0 24 24\"\n",
              "       width=\"24px\">\n",
              "    <path d=\"M0 0h24v24H0V0z\" fill=\"none\"/>\n",
              "    <path d=\"M18.56 5.44l.94 2.06.94-2.06 2.06-.94-2.06-.94-.94-2.06-.94 2.06-2.06.94zm-11 1L8.5 8.5l.94-2.06 2.06-.94-2.06-.94L8.5 2.5l-.94 2.06-2.06.94zm10 10l.94 2.06.94-2.06 2.06-.94-2.06-.94-.94-2.06-.94 2.06-2.06.94z\"/><path d=\"M17.41 7.96l-1.37-1.37c-.4-.4-.92-.59-1.43-.59-.52 0-1.04.2-1.43.59L10.3 9.45l-7.72 7.72c-.78.78-.78 2.05 0 2.83L4 21.41c.39.39.9.59 1.41.59.51 0 1.02-.2 1.41-.59l7.78-7.78 2.81-2.81c.8-.78.8-2.07 0-2.86zM5.41 20L4 18.59l7.72-7.72 1.47 1.35L5.41 20z\"/>\n",
              "  </svg>\n",
              "      </button>\n",
              "      \n",
              "  <style>\n",
              "    .colab-df-container {\n",
              "      display:flex;\n",
              "      flex-wrap:wrap;\n",
              "      gap: 12px;\n",
              "    }\n",
              "\n",
              "    .colab-df-convert {\n",
              "      background-color: #E8F0FE;\n",
              "      border: none;\n",
              "      border-radius: 50%;\n",
              "      cursor: pointer;\n",
              "      display: none;\n",
              "      fill: #1967D2;\n",
              "      height: 32px;\n",
              "      padding: 0 0 0 0;\n",
              "      width: 32px;\n",
              "    }\n",
              "\n",
              "    .colab-df-convert:hover {\n",
              "      background-color: #E2EBFA;\n",
              "      box-shadow: 0px 1px 2px rgba(60, 64, 67, 0.3), 0px 1px 3px 1px rgba(60, 64, 67, 0.15);\n",
              "      fill: #174EA6;\n",
              "    }\n",
              "\n",
              "    [theme=dark] .colab-df-convert {\n",
              "      background-color: #3B4455;\n",
              "      fill: #D2E3FC;\n",
              "    }\n",
              "\n",
              "    [theme=dark] .colab-df-convert:hover {\n",
              "      background-color: #434B5C;\n",
              "      box-shadow: 0px 1px 3px 1px rgba(0, 0, 0, 0.15);\n",
              "      filter: drop-shadow(0px 1px 2px rgba(0, 0, 0, 0.3));\n",
              "      fill: #FFFFFF;\n",
              "    }\n",
              "  </style>\n",
              "\n",
              "      <script>\n",
              "        const buttonEl =\n",
              "          document.querySelector('#df-6a0bf930-af72-4320-a84d-45231a572a09 button.colab-df-convert');\n",
              "        buttonEl.style.display =\n",
              "          google.colab.kernel.accessAllowed ? 'block' : 'none';\n",
              "\n",
              "        async function convertToInteractive(key) {\n",
              "          const element = document.querySelector('#df-6a0bf930-af72-4320-a84d-45231a572a09');\n",
              "          const dataTable =\n",
              "            await google.colab.kernel.invokeFunction('convertToInteractive',\n",
              "                                                     [key], {});\n",
              "          if (!dataTable) return;\n",
              "\n",
              "          const docLinkHtml = 'Like what you see? Visit the ' +\n",
              "            '<a target=\"_blank\" href=https://colab.research.google.com/notebooks/data_table.ipynb>data table notebook</a>'\n",
              "            + ' to learn more about interactive tables.';\n",
              "          element.innerHTML = '';\n",
              "          dataTable['output_type'] = 'display_data';\n",
              "          await google.colab.output.renderOutput(dataTable, element);\n",
              "          const docLink = document.createElement('div');\n",
              "          docLink.innerHTML = docLinkHtml;\n",
              "          element.appendChild(docLink);\n",
              "        }\n",
              "      </script>\n",
              "    </div>\n",
              "  </div>\n",
              "  "
            ]
          },
          "metadata": {},
          "execution_count": 3
        }
      ]
    },
    {
      "cell_type": "code",
      "source": [
        "df = df.dropna(subset=[\"description\", \"points\"])"
      ],
      "metadata": {
        "id": "B_ZOQEdMxSki"
      },
      "execution_count": 4,
      "outputs": []
    },
    {
      "cell_type": "code",
      "source": [
        "df.head()"
      ],
      "metadata": {
        "colab": {
          "base_uri": "https://localhost:8080/",
          "height": 206
        },
        "id": "usO7IY8Cz_Fx",
        "outputId": "cd2574c3-dc00-4748-c985-50332fca3aec"
      },
      "execution_count": 5,
      "outputs": [
        {
          "output_type": "execute_result",
          "data": {
            "text/plain": [
              "    country                                        description  points  price  \\\n",
              "0     Italy  Aromas include tropical fruit, broom, brimston...      87    NaN   \n",
              "1  Portugal  This is ripe and fruity, a wine that is smooth...      87   15.0   \n",
              "2        US  Tart and snappy, the flavors of lime flesh and...      87   14.0   \n",
              "3        US  Pineapple rind, lemon pith and orange blossom ...      87   13.0   \n",
              "4        US  Much like the regular bottling from 2012, this...      87   65.0   \n",
              "\n",
              "          variety               winery  \n",
              "0     White Blend              Nicosia  \n",
              "1  Portuguese Red  Quinta dos Avidagos  \n",
              "2      Pinot Gris            Rainstorm  \n",
              "3        Riesling           St. Julian  \n",
              "4      Pinot Noir         Sweet Cheeks  "
            ],
            "text/html": [
              "\n",
              "  <div id=\"df-f8f3dfa9-dcd2-4e02-b5fe-2503a2b17ad5\">\n",
              "    <div class=\"colab-df-container\">\n",
              "      <div>\n",
              "<style scoped>\n",
              "    .dataframe tbody tr th:only-of-type {\n",
              "        vertical-align: middle;\n",
              "    }\n",
              "\n",
              "    .dataframe tbody tr th {\n",
              "        vertical-align: top;\n",
              "    }\n",
              "\n",
              "    .dataframe thead th {\n",
              "        text-align: right;\n",
              "    }\n",
              "</style>\n",
              "<table border=\"1\" class=\"dataframe\">\n",
              "  <thead>\n",
              "    <tr style=\"text-align: right;\">\n",
              "      <th></th>\n",
              "      <th>country</th>\n",
              "      <th>description</th>\n",
              "      <th>points</th>\n",
              "      <th>price</th>\n",
              "      <th>variety</th>\n",
              "      <th>winery</th>\n",
              "    </tr>\n",
              "  </thead>\n",
              "  <tbody>\n",
              "    <tr>\n",
              "      <th>0</th>\n",
              "      <td>Italy</td>\n",
              "      <td>Aromas include tropical fruit, broom, brimston...</td>\n",
              "      <td>87</td>\n",
              "      <td>NaN</td>\n",
              "      <td>White Blend</td>\n",
              "      <td>Nicosia</td>\n",
              "    </tr>\n",
              "    <tr>\n",
              "      <th>1</th>\n",
              "      <td>Portugal</td>\n",
              "      <td>This is ripe and fruity, a wine that is smooth...</td>\n",
              "      <td>87</td>\n",
              "      <td>15.0</td>\n",
              "      <td>Portuguese Red</td>\n",
              "      <td>Quinta dos Avidagos</td>\n",
              "    </tr>\n",
              "    <tr>\n",
              "      <th>2</th>\n",
              "      <td>US</td>\n",
              "      <td>Tart and snappy, the flavors of lime flesh and...</td>\n",
              "      <td>87</td>\n",
              "      <td>14.0</td>\n",
              "      <td>Pinot Gris</td>\n",
              "      <td>Rainstorm</td>\n",
              "    </tr>\n",
              "    <tr>\n",
              "      <th>3</th>\n",
              "      <td>US</td>\n",
              "      <td>Pineapple rind, lemon pith and orange blossom ...</td>\n",
              "      <td>87</td>\n",
              "      <td>13.0</td>\n",
              "      <td>Riesling</td>\n",
              "      <td>St. Julian</td>\n",
              "    </tr>\n",
              "    <tr>\n",
              "      <th>4</th>\n",
              "      <td>US</td>\n",
              "      <td>Much like the regular bottling from 2012, this...</td>\n",
              "      <td>87</td>\n",
              "      <td>65.0</td>\n",
              "      <td>Pinot Noir</td>\n",
              "      <td>Sweet Cheeks</td>\n",
              "    </tr>\n",
              "  </tbody>\n",
              "</table>\n",
              "</div>\n",
              "      <button class=\"colab-df-convert\" onclick=\"convertToInteractive('df-f8f3dfa9-dcd2-4e02-b5fe-2503a2b17ad5')\"\n",
              "              title=\"Convert this dataframe to an interactive table.\"\n",
              "              style=\"display:none;\">\n",
              "        \n",
              "  <svg xmlns=\"http://www.w3.org/2000/svg\" height=\"24px\"viewBox=\"0 0 24 24\"\n",
              "       width=\"24px\">\n",
              "    <path d=\"M0 0h24v24H0V0z\" fill=\"none\"/>\n",
              "    <path d=\"M18.56 5.44l.94 2.06.94-2.06 2.06-.94-2.06-.94-.94-2.06-.94 2.06-2.06.94zm-11 1L8.5 8.5l.94-2.06 2.06-.94-2.06-.94L8.5 2.5l-.94 2.06-2.06.94zm10 10l.94 2.06.94-2.06 2.06-.94-2.06-.94-.94-2.06-.94 2.06-2.06.94z\"/><path d=\"M17.41 7.96l-1.37-1.37c-.4-.4-.92-.59-1.43-.59-.52 0-1.04.2-1.43.59L10.3 9.45l-7.72 7.72c-.78.78-.78 2.05 0 2.83L4 21.41c.39.39.9.59 1.41.59.51 0 1.02-.2 1.41-.59l7.78-7.78 2.81-2.81c.8-.78.8-2.07 0-2.86zM5.41 20L4 18.59l7.72-7.72 1.47 1.35L5.41 20z\"/>\n",
              "  </svg>\n",
              "      </button>\n",
              "      \n",
              "  <style>\n",
              "    .colab-df-container {\n",
              "      display:flex;\n",
              "      flex-wrap:wrap;\n",
              "      gap: 12px;\n",
              "    }\n",
              "\n",
              "    .colab-df-convert {\n",
              "      background-color: #E8F0FE;\n",
              "      border: none;\n",
              "      border-radius: 50%;\n",
              "      cursor: pointer;\n",
              "      display: none;\n",
              "      fill: #1967D2;\n",
              "      height: 32px;\n",
              "      padding: 0 0 0 0;\n",
              "      width: 32px;\n",
              "    }\n",
              "\n",
              "    .colab-df-convert:hover {\n",
              "      background-color: #E2EBFA;\n",
              "      box-shadow: 0px 1px 2px rgba(60, 64, 67, 0.3), 0px 1px 3px 1px rgba(60, 64, 67, 0.15);\n",
              "      fill: #174EA6;\n",
              "    }\n",
              "\n",
              "    [theme=dark] .colab-df-convert {\n",
              "      background-color: #3B4455;\n",
              "      fill: #D2E3FC;\n",
              "    }\n",
              "\n",
              "    [theme=dark] .colab-df-convert:hover {\n",
              "      background-color: #434B5C;\n",
              "      box-shadow: 0px 1px 3px 1px rgba(0, 0, 0, 0.15);\n",
              "      filter: drop-shadow(0px 1px 2px rgba(0, 0, 0, 0.3));\n",
              "      fill: #FFFFFF;\n",
              "    }\n",
              "  </style>\n",
              "\n",
              "      <script>\n",
              "        const buttonEl =\n",
              "          document.querySelector('#df-f8f3dfa9-dcd2-4e02-b5fe-2503a2b17ad5 button.colab-df-convert');\n",
              "        buttonEl.style.display =\n",
              "          google.colab.kernel.accessAllowed ? 'block' : 'none';\n",
              "\n",
              "        async function convertToInteractive(key) {\n",
              "          const element = document.querySelector('#df-f8f3dfa9-dcd2-4e02-b5fe-2503a2b17ad5');\n",
              "          const dataTable =\n",
              "            await google.colab.kernel.invokeFunction('convertToInteractive',\n",
              "                                                     [key], {});\n",
              "          if (!dataTable) return;\n",
              "\n",
              "          const docLinkHtml = 'Like what you see? Visit the ' +\n",
              "            '<a target=\"_blank\" href=https://colab.research.google.com/notebooks/data_table.ipynb>data table notebook</a>'\n",
              "            + ' to learn more about interactive tables.';\n",
              "          element.innerHTML = '';\n",
              "          dataTable['output_type'] = 'display_data';\n",
              "          await google.colab.output.renderOutput(dataTable, element);\n",
              "          const docLink = document.createElement('div');\n",
              "          docLink.innerHTML = docLinkHtml;\n",
              "          element.appendChild(docLink);\n",
              "        }\n",
              "      </script>\n",
              "    </div>\n",
              "  </div>\n",
              "  "
            ]
          },
          "metadata": {},
          "execution_count": 5
        }
      ]
    },
    {
      "cell_type": "code",
      "source": [
        "plt.hist(df.points, bins=20)\n",
        "plt.title(\"Points histogram\")\n",
        "plt.xlabel(\"N\")\n",
        "plt.ylabel(\"Points\")\n",
        "\n",
        "plt.show()"
      ],
      "metadata": {
        "colab": {
          "base_uri": "https://localhost:8080/",
          "height": 472
        },
        "id": "pMEvVcs20BS-",
        "outputId": "e6ccccbf-f1dc-40eb-9f24-d4861d70044d"
      },
      "execution_count": 6,
      "outputs": [
        {
          "output_type": "display_data",
          "data": {
            "text/plain": [
              "<Figure size 640x480 with 1 Axes>"
            ],
            "image/png": "[encoded data removed]"
          },
          "metadata": {}
        }
      ]
    },
    {
      "cell_type": "markdown",
      "source": [
        "*Down bellow you can also check the output from the cell df cell bellow.*"
      ],
      "metadata": {
        "id": "6Dm3Nj9y6ecZ"
      }
    },
    {
      "cell_type": "code",
      "source": [
        "#df[\"label\"] = (df.points >= 90).astype(int)\n",
        "#df = df[[\"description\", \"points\", \"label\"]]"
      ],
      "metadata": {
        "id": "dDF7XxX74H6-"
      },
      "execution_count": 7,
      "outputs": []
    },
    {
      "cell_type": "code",
      "source": [
        "#df.head()"
      ],
      "metadata": {
        "id": "yhNj96P654kl"
      },
      "execution_count": 8,
      "outputs": []
    },
    {
      "cell_type": "code",
      "source": [
        "#df.tail()"
      ],
      "metadata": {
        "id": "22eRvB8r5-R1"
      },
      "execution_count": 9,
      "outputs": []
    },
    {
      "cell_type": "markdown",
      "source": [
        "**Let's split out our train, val, and test**"
      ],
      "metadata": {
        "id": "25-3OLVl7fhB"
      }
    },
    {
      "cell_type": "code",
      "source": [
        "df[\"label\"] = (df.points >= 90).astype(int)\n",
        "df = df[[\"description\", \"label\"]]"
      ],
      "metadata": {
        "id": "p2XH0gE57b9c"
      },
      "execution_count": 10,
      "outputs": []
    },
    {
      "cell_type": "code",
      "source": [
        "train, val, test = np.split(df.sample(frac=1), [int(0.8*len(df)), int(0.9*len(df))]) #10%, 80%, 90% for train, val, test (10% is enough to generalize using a huge dataframe)"
      ],
      "metadata": {
        "id": "AI0bEjzk4IDT"
      },
      "execution_count": 11,
      "outputs": []
    },
    {
      "cell_type": "code",
      "source": [
        "len(train), len(val), len(test)"
      ],
      "metadata": {
        "colab": {
          "base_uri": "https://localhost:8080/"
        },
        "id": "ND6_JJkI4IMj",
        "outputId": "3d49ced3-6bad-4c03-c878-d24994a5a1ad"
      },
      "execution_count": 12,
      "outputs": [
        {
          "output_type": "execute_result",
          "data": {
            "text/plain": [
              "(28935, 3617, 3617)"
            ]
          },
          "metadata": {},
          "execution_count": 12
        }
      ]
    },
    {
      "cell_type": "markdown",
      "source": [
        "#Creating an input pipeline using tf.data"
      ],
      "metadata": {
        "id": "LEebomcU-UOn"
      }
    },
    {
      "cell_type": "markdown",
      "source": [
        "*This function converts each training, validation, and test set DataFrame into a tf.data.Dataset*\n",
        "\n",
        "*for more: https://www.tensorflow.org/tutorials/structured_data/preprocessing_layers*"
      ],
      "metadata": {
        "id": "Q33ms_aE-3qe"
      }
    },
    {
      "cell_type": "code",
      "source": [
        "def df_to_dataset(dataframe, shuffle=True, batch_size=1024):\n",
        "  df = dataframe.copy()\n",
        "  labels = df.pop('label')\n",
        "  df = df[\"description\"]              #{key: value[:,tf.newaxis] for key, value in dataframe.items()}\n",
        "  ds = tf.data.Dataset.from_tensor_slices((df, labels))\n",
        "  if shuffle:\n",
        "    ds = ds.shuffle(buffer_size=len(dataframe))\n",
        "  ds = ds.batch(batch_size)\n",
        "  ds = ds.prefetch(tf.data.AUTOTUNE)  #AUTOTUNE \"optmizes...\"                 #Change the following value \"batch_size\"\n",
        "  return ds"
      ],
      "metadata": {
        "id": "8wtfvb2g9kSA"
      },
      "execution_count": 13,
      "outputs": []
    },
    {
      "cell_type": "code",
      "source": [
        "train_data = df_to_dataset(train)\n",
        "valid_data = df_to_dataset(val)\n",
        "test_data = df_to_dataset(test)"
      ],
      "metadata": {
        "id": "Kv5Sc-YC_5UO"
      },
      "execution_count": 14,
      "outputs": []
    },
    {
      "cell_type": "code",
      "source": [
        "#list(train_data)[0]     # Run the previous code so the Output will be:\n",
        "\n",
        "\n",
        "\n",
        "#(<tf.Tensor: shape=(1024,), dtype=string, numpy=\n",
        "# array([b'Dense and concentrated, this wine is ultra smooth in texture, offering an abundance of red and black cherry, dark plum and baking spice aromas. One of the few Pinots grown in Marin County, it has great depth and a memorable flavor profile that lingers long into the finish.',\n",
        "#        b\"A simple, sweet wine, with sugary cherry, chocolate and anise flavors. There's a curious, disagreeable charred taste, like a cigarette butt.\",\n",
        "#        b\"This bio wine comes from just over one acre of vines in the appellation's best iron-red terroir. It is ripe and creamy, full of smooth apple-pur\\xc3\\xa9e fruitiness. A good squeeze of lemon juice gives the wine its crisp aftertaste. Drink now.\",\n",
        "#        ...,\n",
        "#        b'An unusual and wonderful blend of grapes has produced a simple and fruity wine. Touches of caramel broaden the crisp red berry fruits and bright acidity. It should be drunk now.',\n",
        "#        b\"Raspberry and green bell pepper aromas set the scene for blackberry, cassis, geranium leaf and smoke flavors in this wine. It's full bodied, with velvety tannins and a savory finish.\",\n",
        "#        b'This is a rich soft wine full of tannins that have merged with the generous red-berry fruits. Colored by the unusual blend of Alicante Bouschet with Petit Verdot, it is smoothly textured and ready to drink.'],\n",
        "#       dtype=object)>,\n",
        "# <tf.Tensor: shape=(1024,), dtype=int64, numpy=array([1, 0, 0, ..., 0, 0, 0])>)"
      ],
      "metadata": {
        "id": "g6u2JkZ5ALDn"
      },
      "execution_count": 15,
      "outputs": []
    },
    {
      "cell_type": "markdown",
      "source": [
        "#Embedding Model"
      ],
      "metadata": {
        "id": "eqCcsyzvs157"
      }
    },
    {
      "cell_type": "code",
      "source": [
        "embedding = \"https://tfhub.dev/google/nnlm-en-dim50/2\"\n",
        "hub_layer = hub.KerasLayer(embedding, dtype=tf.string, trainable=True)"
      ],
      "metadata": {
        "id": "_WldLzx7sgkm"
      },
      "execution_count": 41,
      "outputs": []
    },
    {
      "cell_type": "markdown",
      "source": [
        "*Here we are going to project into a len 50 vector cointaing only numbers, basically, trasnforming text in a vector of numbers*"
      ],
      "metadata": {
        "id": "YTEHHaXqt8To"
      }
    },
    {
      "cell_type": "code",
      "source": [
        "hub_layer(list(train_data)[0][0])"
      ],
      "metadata": {
        "colab": {
          "base_uri": "https://localhost:8080/"
        },
        "id": "TGcQ3i-DtsNp",
        "outputId": "1cde029a-f6b6-4637-ebc1-3dfc67e8e8c9"
      },
      "execution_count": 42,
      "outputs": [
        {
          "output_type": "execute_result",
          "data": {
            "text/plain": [
              "<tf.Tensor: shape=(1024, 50), dtype=float32, numpy=\n",
              "array([[ 4.3361712e-01, -1.5109478e-01, -4.1771997e-02, ...,\n",
              "         1.6864826e-01, -1.0286436e-01, -1.4589529e-02],\n",
              "       [ 1.6825025e-01, -2.1888886e-01, -1.5772498e-01, ...,\n",
              "         4.5831807e-02, -2.6150462e-01, -2.2873826e-01],\n",
              "       [ 7.9383053e-02, -1.9614093e-01, -3.9816719e-01, ...,\n",
              "        -4.9258317e-03, -2.2278371e-01,  7.9831608e-02],\n",
              "       ...,\n",
              "       [ 4.7141305e-01, -3.0411732e-01,  1.9335356e-01, ...,\n",
              "        -4.7581870e-02, -2.7784240e-01, -1.9106030e-01],\n",
              "       [ 1.9299483e-01, -2.7018204e-01,  9.5329054e-02, ...,\n",
              "         6.1161250e-02, -3.1234741e-01,  5.5496179e-02],\n",
              "       [ 2.2496697e-01, -1.5135497e-01,  3.9412157e-04, ...,\n",
              "        -1.6581273e-01, -7.9370692e-02,  4.7501284e-03]], dtype=float32)>"
            ]
          },
          "metadata": {},
          "execution_count": 42
        }
      ]
    },
    {
      "cell_type": "markdown",
      "source": [
        "#Building our model"
      ],
      "metadata": {
        "id": "vi2r94fEv38l"
      }
    },
    {
      "cell_type": "markdown",
      "source": [
        "*Dropout means every once i a while you select fews nodes that aren't \"working\"*"
      ],
      "metadata": {
        "id": "3b_dzFg6_2UD"
      }
    },
    {
      "cell_type": "code",
      "source": [
        "model = tf.keras.Sequential()\n",
        "model.add(hub_layer) #     It's trasnfomring text in a numeric value\n",
        "model.add(tf.keras.layers.Dense(16, activation='relu'))\n",
        "model.add(tf.keras.layers.Dropout(0.4)) #We added this line to this cell just right after model fitting\n",
        "model.add(tf.keras.layers.Dense(16, activation='relu'))\n",
        "model.add(tf.keras.layers.Dropout(0.4)) ##We added this line to this cell just right after model fitting\n",
        "model.add(tf.keras.layers.Dense(1, activation=\"sigmoid\"))\n"
      ],
      "metadata": {
        "id": "SUu-oTLdv2oq"
      },
      "execution_count": 43,
      "outputs": []
    },
    {
      "cell_type": "markdown",
      "source": [
        "*Now we are going to compile the model, and also be doing a \"binary classification\"*"
      ],
      "metadata": {
        "id": "4A5TiN82zyur"
      }
    },
    {
      "cell_type": "code",
      "source": [
        "model.compile(optimizer=tf.keras.optimizers.Adam(learning_rate=0.001),  # Running Adam for optimmizing\n",
        "              loss=tf.keras.losses.BinaryCrossentropy(), # For \"Loss\" we are going to use \"BinaryCrossentropy\"\n",
        "              metrics=['accuracy']) # For metrics adding \"accuracy\""
      ],
      "metadata": {
        "id": "cPhOzgOBznaC"
      },
      "execution_count": 44,
      "outputs": []
    },
    {
      "cell_type": "markdown",
      "source": [
        "*Now we are going to try to evaluate the \"untrained model\" on  \"training data\"*"
      ],
      "metadata": {
        "id": "y17Y3rx01Ntc"
      }
    },
    {
      "cell_type": "code",
      "source": [
        "model.evaluate(train_data)"
      ],
      "metadata": {
        "colab": {
          "base_uri": "https://localhost:8080/"
        },
        "id": "DdEdlI0U1H7X",
        "outputId": "21808d38-c232-4c52-d6a0-1afdffdde1ba"
      },
      "execution_count": 45,
      "outputs": [
        {
          "output_type": "stream",
          "name": "stdout",
          "text": [
            "29/29 [==============================] - 1s 20ms/step - loss: 0.6982 - accuracy: 0.3932\n"
          ]
        },
        {
          "output_type": "execute_result",
          "data": {
            "text/plain": [
              "[0.6981855034828186, 0.3932262063026428]"
            ]
          },
          "metadata": {},
          "execution_count": 45
        }
      ]
    },
    {
      "cell_type": "markdown",
      "source": [
        "*Now we are going to do the same for \"validation data\"*"
      ],
      "metadata": {
        "id": "5vb2mrUe1nRi"
      }
    },
    {
      "cell_type": "code",
      "source": [
        "model.evaluate(valid_data)"
      ],
      "metadata": {
        "colab": {
          "base_uri": "https://localhost:8080/"
        },
        "id": "PdOWS_7d154f",
        "outputId": "a6b0cc45-270d-4d2a-eb7b-cc32f48505ed"
      },
      "execution_count": 46,
      "outputs": [
        {
          "output_type": "stream",
          "name": "stdout",
          "text": [
            "4/4 [==============================] - 0s 15ms/step - loss: 0.6983 - accuracy: 0.3929\n"
          ]
        },
        {
          "output_type": "execute_result",
          "data": {
            "text/plain": [
              "[0.698291540145874, 0.3928670287132263]"
            ]
          },
          "metadata": {},
          "execution_count": 46
        }
      ]
    },
    {
      "cell_type": "markdown",
      "source": [
        "*After bad results, we are going to try \"model.fit\". After changing parameters and running it again we mihgt find higher accuracy but it generalizes*\n",
        "\n",
        "\n"
      ],
      "metadata": {
        "id": "2_eYDxTb2FQr"
      }
    },
    {
      "cell_type": "code",
      "source": [
        "history = model.fit(train_data, epochs=5, validation_data=valid_data) #Instead of \"Epoch=10\", now it's 5"
      ],
      "metadata": {
        "colab": {
          "base_uri": "https://localhost:8080/"
        },
        "id": "Ul4J_lBL1-xQ",
        "outputId": "12bc8a63-ac36-4912-89eb-45994f32aba9"
      },
      "execution_count": 47,
      "outputs": [
        {
          "output_type": "stream",
          "name": "stdout",
          "text": [
            "Epoch 1/5\n",
            "29/29 [==============================] - 53s 2s/step - loss: 0.6847 - accuracy: 0.5619 - val_loss: 0.6629 - val_accuracy: 0.6287\n",
            "Epoch 2/5\n",
            "29/29 [==============================] - 50s 2s/step - loss: 0.6505 - accuracy: 0.6318 - val_loss: 0.6131 - val_accuracy: 0.6505\n",
            "Epoch 3/5\n",
            "29/29 [==============================] - 51s 2s/step - loss: 0.5958 - accuracy: 0.6801 - val_loss: 0.5349 - val_accuracy: 0.7636\n",
            "Epoch 4/5\n",
            "29/29 [==============================] - 49s 2s/step - loss: 0.5178 - accuracy: 0.7509 - val_loss: 0.4597 - val_accuracy: 0.7907\n",
            "Epoch 5/5\n",
            "29/29 [==============================] - 52s 2s/step - loss: 0.4505 - accuracy: 0.7984 - val_loss: 0.4148 - val_accuracy: 0.8087\n"
          ]
        }
      ]
    },
    {
      "cell_type": "markdown",
      "source": [
        "*What we have just seen is a classic example of \"Overfitting\". It happens cuz our train is lerning really well but it generalizes really poorly*"
      ],
      "metadata": {
        "id": "Hz7oLuzQ5-RU"
      }
    },
    {
      "cell_type": "code",
      "source": [
        "model.evaluate(test_data)"
      ],
      "metadata": {
        "colab": {
          "base_uri": "https://localhost:8080/"
        },
        "id": "x01jM4n7JaWP",
        "outputId": "fc36f44c-f51b-44ce-dcec-c59e9ca1975a"
      },
      "execution_count": 51,
      "outputs": [
        {
          "output_type": "stream",
          "name": "stdout",
          "text": [
            "4/4 [==============================] - 2s 375ms/step - loss: 0.4240 - accuracy: 0.8051\n"
          ]
        },
        {
          "output_type": "execute_result",
          "data": {
            "text/plain": [
              "[0.42402225732803345, 0.8050870895385742]"
            ]
          },
          "metadata": {},
          "execution_count": 51
        }
      ]
    },
    {
      "cell_type": "markdown",
      "source": [
        "*The precision is 83% above*"
      ],
      "metadata": {
        "id": "kfuXtF1IJvGS"
      }
    },
    {
      "cell_type": "markdown",
      "source": [
        "#LSTM"
      ],
      "metadata": {
        "id": "VvDmFG_6KgaM"
      }
    },
    {
      "cell_type": "markdown",
      "source": [
        "*1) Creating a sort of encoder for our text*"
      ],
      "metadata": {
        "id": "Na4aHpODKnwr"
      }
    },
    {
      "cell_type": "code",
      "source": [
        "encoder = tf.keras.layers.TextVectorization(max_tokens=2000)\n",
        "encoder.adapt(train_data.map(lambda text, label: text))"
      ],
      "metadata": {
        "id": "fsvz-x8IKb_s"
      },
      "execution_count": 53,
      "outputs": []
    },
    {
      "cell_type": "markdown",
      "source": [
        "*2) Let's check out our vocabulary/ The array will present unknown tokens*"
      ],
      "metadata": {
        "id": "P5Zd3FomLduG"
      }
    },
    {
      "cell_type": "code",
      "source": [
        "vocab = np.array(encoder.get_vocabulary())\n",
        "vocab[:20]"
      ],
      "metadata": {
        "colab": {
          "base_uri": "https://localhost:8080/"
        },
        "id": "axzFaUQhLJTQ",
        "outputId": "13868cf3-bb10-40f2-bf8c-737c5520d839"
      },
      "execution_count": 54,
      "outputs": [
        {
          "output_type": "execute_result",
          "data": {
            "text/plain": [
              "array(['', '[UNK]', 'and', 'the', 'a', 'of', 'with', 'this', 'is', 'wine',\n",
              "       'in', 'flavors', 'to', 'it', 'its', 'fruit', 'on', 'aromas',\n",
              "       'palate', 'that'], dtype='<U17')"
            ]
          },
          "metadata": {},
          "execution_count": 54
        }
      ]
    },
    {
      "cell_type": "markdown",
      "source": [
        "#Building our model againm but now using LSTM"
      ],
      "metadata": {
        "id": "13GOyoPcL3Hi"
      }
    },
    {
      "cell_type": "code",
      "source": [
        "model = tf.keras.Sequential([\n",
        "    encoder,\n",
        "    tf.keras.layers.Embedding(\n",
        "        input_dim=len(encoder.get_vocabulary()),\n",
        "        output_dim=32,\n",
        "        mask_zero=True\n",
        "    ),\n",
        "    tf.keras.layers.LSTM(32),\n",
        "    tf.keras.layers.Dense(32, activation='relu'),\n",
        "    tf.keras.layers.Dropout(0.4),\n",
        "    tf.keras.layers.Dense(1, activation=\"sigmoid\")\n",
        "])"
      ],
      "metadata": {
        "id": "SjIiTucdL2o9"
      },
      "execution_count": 58,
      "outputs": []
    },
    {
      "cell_type": "code",
      "source": [
        "model.compile(optimizer=tf.keras.optimizers.Adam(learning_rate=0.001),  # Running Adam for optimmizing\n",
        "              loss=tf.keras.losses.BinaryCrossentropy(), # For \"Loss\" we are going to use \"BinaryCrossentropy\"\n",
        "              metrics=['accuracy']) # For metrics adding \"accuracy\""
      ],
      "metadata": {
        "id": "eDK7VK7QNw4I"
      },
      "execution_count": 59,
      "outputs": []
    },
    {
      "cell_type": "markdown",
      "source": [
        "*Let's evaluate it again*"
      ],
      "metadata": {
        "id": "ME6RK9omN55Q"
      }
    },
    {
      "cell_type": "code",
      "source": [
        "model.evaluate(train_data)\n",
        "model.evaluate(valid_data)"
      ],
      "metadata": {
        "colab": {
          "base_uri": "https://localhost:8080/"
        },
        "id": "olb6pafgN5JS",
        "outputId": "c297f92b-0a72-4d58-e2b4-23837c145ca6"
      },
      "execution_count": 60,
      "outputs": [
        {
          "output_type": "stream",
          "name": "stdout",
          "text": [
            "29/29 [==============================] - 9s 192ms/step - loss: 0.6932 - accuracy: 0.4932\n",
            "4/4 [==============================] - 1s 154ms/step - loss: 0.6931 - accuracy: 0.4954\n"
          ]
        },
        {
          "output_type": "execute_result",
          "data": {
            "text/plain": [
              "[0.6931130886077881, 0.49543821811676025]"
            ]
          },
          "metadata": {},
          "execution_count": 60
        }
      ]
    },
    {
      "cell_type": "markdown",
      "source": [
        "*Now let's train our model*"
      ],
      "metadata": {
        "id": "g0FOW5mTOb_C"
      }
    },
    {
      "cell_type": "code",
      "source": [
        "history = model.fit(train_data, epochs=5, validation_data=valid_data)"
      ],
      "metadata": {
        "colab": {
          "base_uri": "https://localhost:8080/"
        },
        "id": "lvrL3exFObSQ",
        "outputId": "39174572-e942-45c1-a926-c84b4d2a802a"
      },
      "execution_count": 61,
      "outputs": [
        {
          "output_type": "stream",
          "name": "stdout",
          "text": [
            "Epoch 1/5\n",
            "29/29 [==============================] - 24s 653ms/step - loss: 0.6702 - accuracy: 0.6167 - val_loss: 0.6391 - val_accuracy: 0.6287\n",
            "Epoch 2/5\n",
            "29/29 [==============================] - 16s 546ms/step - loss: 0.5999 - accuracy: 0.6551 - val_loss: 0.5098 - val_accuracy: 0.7747\n",
            "Epoch 3/5\n",
            "29/29 [==============================] - 16s 544ms/step - loss: 0.4646 - accuracy: 0.7914 - val_loss: 0.4083 - val_accuracy: 0.8186\n",
            "Epoch 4/5\n",
            "29/29 [==============================] - 16s 536ms/step - loss: 0.3819 - accuracy: 0.8294 - val_loss: 0.3619 - val_accuracy: 0.8388\n",
            "Epoch 5/5\n",
            "29/29 [==============================] - 21s 718ms/step - loss: 0.3518 - accuracy: 0.8464 - val_loss: 0.3592 - val_accuracy: 0.8385\n"
          ]
        }
      ]
    },
    {
      "cell_type": "markdown",
      "source": [
        "*Finally, we can evaluate our final model*"
      ],
      "metadata": {
        "id": "aGKFjeGXPcqh"
      }
    },
    {
      "cell_type": "code",
      "source": [
        "model.evaluate(test_data)"
      ],
      "metadata": {
        "colab": {
          "base_uri": "https://localhost:8080/"
        },
        "id": "S-7JJeYvPcG_",
        "outputId": "2fd5071b-c4d4-4f71-b652-92b2d8200445"
      },
      "execution_count": 62,
      "outputs": [
        {
          "output_type": "stream",
          "name": "stdout",
          "text": [
            "4/4 [==============================] - 1s 162ms/step - loss: 0.3731 - accuracy: 0.8258\n"
          ]
        },
        {
          "output_type": "execute_result",
          "data": {
            "text/plain": [
              "[0.3731269836425781, 0.8258225321769714]"
            ]
          },
          "metadata": {},
          "execution_count": 62
        }
      ]
    },
    {
      "cell_type": "markdown",
      "source": [
        "*Let's plot it to better look at*"
      ],
      "metadata": {
        "id": "8FSVvxlj9HgG"
      }
    },
    {
      "cell_type": "code",
      "source": [
        "#plt.plot(history.history['accuracy'], label=\"Training acc\")             #Setting labels\n",
        "#plt.plot(history.history['val_accuracy'], label=\"Validation acc\")\n",
        "#plt.title(\"Accuracy of model\")\n",
        "#plt.ylabel(\"Accuracy\")\n",
        "#plt.xlabel(\"Epoch.\")\n",
        "#plt.legend()\n",
        "#plt.show()"
      ],
      "metadata": {
        "colab": {
          "base_uri": "https://localhost:8080/",
          "height": 472
        },
        "id": "1e3YjGwW2bZN",
        "outputId": "39b9e1a6-3c8f-4216-f008-3f023aadcbf2"
      },
      "execution_count": 48,
      "outputs": [
        {
          "output_type": "display_data",
          "data": {
            "text/plain": [
              "<Figure size 640x480 with 1 Axes>"
            ],
            "image/png": "[encoded data removed]"
          },
          "metadata": {}
        }
      ]
    },
    {
      "cell_type": "markdown",
      "source": [
        "*Now let's plot loss*"
      ],
      "metadata": {
        "id": "UNZP-sld9N2N"
      }
    },
    {
      "cell_type": "code",
      "source": [
        "#plt.plot(history.history['loss'], label=\"Training loss\")\n",
        "#plt.plot(history.history['val_loss'], label=\"Validation loss\")\n",
        "#plt.title(\"Loss of model\")\n",
        "#plt.ylabel(\"Loss\")\n",
        "#plt.xlabel(\"Epoch.\")\n",
        "#plt.legend()\n",
        "#plt.show()"
      ],
      "metadata": {
        "colab": {
          "base_uri": "https://localhost:8080/",
          "height": 472
        },
        "id": "v92rMwcI6hif",
        "outputId": "d9af19cd-2d9e-4a36-ff90-89099ab0c78c"
      },
      "execution_count": 49,
      "outputs": [
        {
          "output_type": "display_data",
          "data": {
            "text/plain": [
              "<Figure size 640x480 with 1 Axes>"
            ],
            "image/png": "[encoded data removed]"
          },
          "metadata": {}
        }
      ]
    },
    {
      "cell_type": "markdown",
      "source": [
        "*How do we fix it? By changing through adding \"model.add(tf.keras.layers.Dropout(0.4))\" lines to our model cell high up above*"
      ],
      "metadata": {
        "id": "xnIOW2xW-iS2"
      }
    },
    {
      "cell_type": "markdown",
      "source": [
        "*After fitting model, evaluate test_data*"
      ],
      "metadata": {
        "id": "cAZ1FPPIJE47"
      }
    },
    {
      "cell_type": "code",
      "source": [],
      "metadata": {
        "id": "yvXT_TSy9pSz"
      },
      "execution_count": null,
      "outputs": []
    }
  ]
}